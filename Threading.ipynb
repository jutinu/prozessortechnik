{
 "cells": [
  {
   "cell_type": "code",
   "execution_count": 13,
   "id": "d2c0b2c5",
   "metadata": {},
   "outputs": [
    {
     "name": "stdout",
     "output_type": "stream",
     "text": [
      "ID: 5797\n",
      "ID: 5798\n",
      "100\n"
     ]
    }
   ],
   "source": [
    "import threading\n",
    "import os\n",
    "import time\n",
    "\n",
    "#Funktionen die auf verschiedenen Prozessoren ausgeführt werden\n",
    "def worker1(value): \n",
    "    local_data =value\n",
    "    for i in range(10,20):\n",
    "        local_data +=i\n",
    "        time.sleep(0.1)\n",
    "    value=local_data\n",
    "def worker2(value): \n",
    "    local_data =value\n",
    "    for i in range(1,10):\n",
    "        local_data -=i\n",
    "        time.sleep(0.1)\n",
    "    value = local_data\n",
    "    \n",
    "\n",
    "shared_data = 100\n",
    "t1 = threading.Thread(target=worker1, args=(shared_data,))\n",
    "t1.start()\n",
    "print(f\"ID: {t1.native_id}\")\n",
    "\n",
    "t2 = threading.Thread(target=worker2, args=(shared_data,))\n",
    "t2.start()\n",
    "print(f\"ID: {t2.native_id}\")\n",
    "t1.join()\n",
    "t2.join()\n",
    "print(f\"{shared_data}\")"
   ]
  }
 ],
 "metadata": {
  "kernelspec": {
   "display_name": "Python 3 (ipykernel)",
   "language": "python",
   "name": "python3"
  },
  "language_info": {
   "codemirror_mode": {
    "name": "ipython",
    "version": 3
   },
   "file_extension": ".py",
   "mimetype": "text/x-python",
   "name": "python",
   "nbconvert_exporter": "python",
   "pygments_lexer": "ipython3",
   "version": "3.9.7"
  }
 },
 "nbformat": 4,
 "nbformat_minor": 5
}
