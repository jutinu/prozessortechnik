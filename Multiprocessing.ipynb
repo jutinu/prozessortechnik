{
 "cells": [
  {
   "cell_type": "code",
   "execution_count": 2,
   "id": "8c84e669",
   "metadata": {},
   "outputs": [
    {
     "name": "stdout",
     "output_type": "stream",
     "text": [
      "Number of Cores: 4\n",
      "ID of main process: 2092\n",
      "ID of process p1: 2171\n",
      "Process p1 is alive: True\n",
      "ID of even: 2171\n",
      "ID of worker2: 2173\n",
      "ID of process p2: 2173\n",
      "Process p1 is alive: True\n",
      "Cild Processes: <Process name='Process-3' pid=2171 parent=2092 started>\n",
      "Cild Processes: <Process name='Process-4' pid=2173 parent=2092 started>\n",
      "processes finished execution!\n",
      "Process p1 is alive: False\n",
      "Process p2 is alive: False\n"
     ]
    }
   ],
   "source": [
    "import multiprocessing as mp\n",
    "import os \n",
    "import time\n",
    "\n",
    "#Funktionen die auf verschiedenen Prozessoren ausgeführt werden\n",
    "def worker1(): \n",
    "    print(f\"ID of even: {os.getpid()}\") \n",
    "    time.sleep(5)\n",
    "\n",
    "def worker2(): \n",
    "    print(f\"ID of worker2: {os.getpid()}\")\n",
    "    time.sleep(5)\n",
    "\n",
    "    \n",
    "\n",
    "print(f\"Number of Cores: {mp.cpu_count()}\")\n",
    "print(\"ID of main process: {}\".format(os.getpid())) \n",
    "\n",
    "p1 = mp.Process(target=worker1) \n",
    "p1.start() \n",
    "print(f\"ID of process p1: {p1.pid}\")\n",
    "print(f\"Process p1 is alive: {p1.is_alive()}\")\n",
    "\n",
    "p2 = mp.Process(target=worker2) \n",
    "p2.start() \n",
    "print(f\"ID of process p2: {p2.pid}\") \n",
    "print(f\"Process p2 is alive: {p2.is_alive()}\")\n",
    "\n",
    "for child in mp.active_children(): \n",
    "    print(f\"Cild Processes: {child}\")\n",
    "\n",
    "#Main Prozess wartet bis alle Kindprozesse beendet sind\n",
    "p1.join() \n",
    "p2.join() \n",
    "\n",
    "print(f\"processes finished execution!\") \n",
    "print(f\"Process p1 is alive: {p1.is_alive()}\") \n",
    "print(f\"Process p2 is alive: {p2.is_alive()}\")"
   ]
  },
  {
   "cell_type": "code",
   "execution_count": null,
   "id": "ba6d7f9f",
   "metadata": {},
   "outputs": [],
   "source": []
  }
 ],
 "metadata": {
  "interpreter": {
   "hash": "d2152fd7f0bbc62aa1baff8c990435d1e2c7175d001561303988032604c11a48"
  },
  "kernelspec": {
   "display_name": "Python 3.9.7 64-bit",
   "name": "python3"
  },
  "language_info": {
   "codemirror_mode": {
    "name": "ipython",
    "version": 3
   },
   "file_extension": ".py",
   "mimetype": "text/x-python",
   "name": "python",
   "nbconvert_exporter": "python",
   "pygments_lexer": "ipython3",
   "version": "3.9.7"
  }
 },
 "nbformat": 4,
 "nbformat_minor": 5
}
