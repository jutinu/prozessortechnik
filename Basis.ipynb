{
 "cells": [
  {
   "cell_type": "markdown",
   "metadata": {},
   "source": [
    "# interaktives Nootebook\n",
    "\n",
    "Ein Nootebook ist eine Interaktive Programmierumgebung.\n",
    "\n",
    "- Variablen können mit ihrem Namen evaluiert werden (Ausgabe, Funktion aufrufen....)\n",
    "- Codezeilen können mittels \"Run\" Button oder schneller mit der Tastenkombi Ctr+Enter"
   ]
  },
  {
   "cell_type": "markdown",
   "metadata": {},
   "source": [
    "# Basis Datentypen\n",
    "\n",
    "Python hat dynamische Typen, das heisst, das der Typ erst bei der Ausführung festgelegt wird."
   ]
  },
  {
   "cell_type": "code",
   "execution_count": null,
   "metadata": {},
   "outputs": [],
   "source": [
    "#Das ist ein Kommentar\n",
    "#Typ Zahlen \n",
    "eine_zahl = 2.4\n",
    "summe = eine_zahl*2\n",
    "summe"
   ]
  },
  {
   "cell_type": "code",
   "execution_count": null,
   "metadata": {},
   "outputs": [],
   "source": [
    "# Typ String - Zeichenfolge\n",
    "name = \"martin\""
   ]
  },
  {
   "cell_type": "code",
   "execution_count": null,
   "metadata": {},
   "outputs": [],
   "source": [
    "# Typ Wahrheitswert\n",
    "wahr = True"
   ]
  },
  {
   "cell_type": "code",
   "execution_count": null,
   "metadata": {},
   "outputs": [],
   "source": [
    "# Listen\n",
    "meine_liste = [1,2,3,4,5,6,7,8,9]"
   ]
  },
  {
   "cell_type": "markdown",
   "metadata": {},
   "source": [
    "# Weitere Datentypen\n",
    "\n",
    "Es existieren noch weitere Daentypen in Python, doch für diesen Kurs sind die obigen ausreichend.\n",
    "\n",
    "- Dictionaries\n",
    "\n",
    "- Tuples"
   ]
  },
  {
   "cell_type": "markdown",
   "metadata": {},
   "source": [
    "## Ablaufsteuerung\n",
    "\n",
    "- if, else    => Entscheidung\n",
    "\n",
    "- for     => Schleife über Elemente (Iterator)\n",
    "\n",
    "- while => Schleife bis Bedingung erfüllt ist"
   ]
  },
  {
   "cell_type": "code",
   "execution_count": null,
   "metadata": {},
   "outputs": [],
   "source": [
    "irgendeine_zahl = 10\n",
    "\n",
    "if irgendeine_zahl > 3:\n",
    "    print(\"groesser als\")\n",
    "else:\n",
    "    print(\"kleiner als\")"
   ]
  },
  {
   "cell_type": "code",
   "execution_count": null,
   "metadata": {},
   "outputs": [],
   "source": [
    "andere_liste = [1,2,3,4,6,7]\n",
    "for i in andere_liste:\n",
    "    print(i)\n",
    "    "
   ]
  },
  {
   "cell_type": "code",
   "execution_count": null,
   "metadata": {},
   "outputs": [],
   "source": [
    "ende = 10\n",
    "zaehler = 0\n",
    "while zaehler <= ende:\n",
    "    print(zaehler)\n",
    "    zaehler += 1"
   ]
  },
  {
   "cell_type": "code",
   "execution_count": null,
   "metadata": {},
   "outputs": [],
   "source": [
    "cond = True\n",
    "count= 0\n",
    "\n",
    "while cond:\n",
    "    count +=1\n",
    "    if count >=10:\n",
    "        print(\"erreicht\")\n",
    "        cond=False\n",
    "    else:\n",
    "        print(\"noch nicht erreicht\")\n",
    "        continue"
   ]
  },
  {
   "cell_type": "markdown",
   "metadata": {},
   "source": [
    "# Funktionen\n",
    "\n",
    "Funktionen sind Codeblöcke welche zur Wiederverwendung verwendet werden.\n",
    "\n",
    "Funktionen bestehen aus Funktionsname und Argumenten in den Klammern"
   ]
  },
  {
   "cell_type": "code",
   "execution_count": null,
   "metadata": {},
   "outputs": [],
   "source": [
    "def schreibe(name):\n",
    "    print(name)\n",
    "\n",
    "schreibe(\"Martin\")"
   ]
  }
 ],
 "metadata": {
  "interpreter": {
   "hash": "e7370f93d1d0cde622a1f8e1c04877d8463912d04d973331ad4851f04de6915a"
  },
  "kernelspec": {
   "display_name": "Python 3.9.7 64-bit",
   "name": "python3"
  },
  "language_info": {
   "codemirror_mode": {
    "name": "ipython",
    "version": 3
   },
   "file_extension": ".py",
   "mimetype": "text/x-python",
   "name": "python",
   "nbconvert_exporter": "python",
   "pygments_lexer": "ipython3",
   "version": "3.9.7"
  },
  "orig_nbformat": 4
 },
 "nbformat": 4,
 "nbformat_minor": 2
}
